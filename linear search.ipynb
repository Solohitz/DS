{
 "cells": [
  {
   "cell_type": "markdown",
   "id": "d801e503-b613-4f09-bdca-7f449b124dc1",
   "metadata": {},
   "source": [
    "## Linear search"
   ]
  },
  {
   "cell_type": "code",
   "execution_count": 1,
   "id": "7c0c3c8e-268b-4120-988a-53ab08d9faaa",
   "metadata": {},
   "outputs": [],
   "source": [
    "def linear_search(list, target): \n",
    "    \"\"\"\n",
    "    Returns the index position of the target if found, else returns None\n",
    "    \"\"\"\n",
    "    for i in range(0, len(list)):\n",
    "        if list[i] == target:\n",
    "            return i \n",
    "    return None \n",
    " "
   ]
  },
  {
   "cell_type": "code",
   "execution_count": 2,
   "id": "c5ed1dbd-76e1-4f3b-9d84-37ae7252d317",
   "metadata": {},
   "outputs": [],
   "source": [
    "def verify(index):\n",
    "    if index is not None:\n",
    "        print(\"Target found at index: \", index)\n",
    "    else: \n",
    "        print(\"Target not found in list\")"
   ]
  },
  {
   "cell_type": "code",
   "execution_count": 3,
   "id": "d2a744b3-0d82-4ff2-bfef-4823eb320816",
   "metadata": {},
   "outputs": [
    {
     "name": "stdout",
     "output_type": "stream",
     "text": [
      "Target not found in list\n"
     ]
    }
   ],
   "source": [
    "Numbers = [1, 2, 3, 4, 5, 6, 7, 8, 9 ,10]\n",
    "result = linear_search(Numbers, 12)\n",
    "verify(result)\n"
   ]
  },
  {
   "cell_type": "code",
   "execution_count": 4,
   "id": "4f8c9fa5-f4a5-4281-840a-6793c63180ac",
   "metadata": {},
   "outputs": [
    {
     "name": "stdout",
     "output_type": "stream",
     "text": [
      "Target found at index:  4\n"
     ]
    }
   ],
   "source": [
    "result = linear_search(Numbers, 5)\n",
    "verify(result)"
   ]
  },
  {
   "cell_type": "markdown",
   "id": "b17491d3-a0cd-4d0a-80c8-71c01c6ca186",
   "metadata": {},
   "source": [
    "## Binary Search"
   ]
  },
  {
   "cell_type": "code",
   "execution_count": 5,
   "id": "4cfb06f7-9be3-47ab-9225-4cceb0fedbff",
   "metadata": {},
   "outputs": [],
   "source": [
    "def binary_Search(list, target):\n",
    "    first = 0\n",
    "    last = len(list) - 1\n",
    "    \n",
    "    while first <= last:\n",
    "        midpoint = (first + last) // 2\n",
    "        \n",
    "        if list[midpoint] == target:\n",
    "            return midpoint\n",
    "        elif list[midpoint] < target:\n",
    "            first = midpoint + 1 \n",
    "        else:\n",
    "            last = midpoint - 1\n",
    "    return None"
   ]
  },
  {
   "cell_type": "code",
   "execution_count": 6,
   "id": "5af19fe6-5685-4aba-bc2d-25113f98ecb4",
   "metadata": {},
   "outputs": [],
   "source": [
    "def verify(index):\n",
    "    if index is not None:\n",
    "        print(\"Target found at index: \", index)\n",
    "    else: \n",
    "        print(\"Target not found in list\")"
   ]
  },
  {
   "cell_type": "code",
   "execution_count": 12,
   "id": "bf1eecb3-0aa6-436b-9d30-c617f61cec74",
   "metadata": {},
   "outputs": [],
   "source": [
    "#for binary search to work well the list has to be sorted"
   ]
  },
  {
   "cell_type": "code",
   "execution_count": 10,
   "id": "6ea8fb85-369b-4e5d-800d-fd2da24e1457",
   "metadata": {},
   "outputs": [
    {
     "name": "stdout",
     "output_type": "stream",
     "text": [
      "Target not found in list\n"
     ]
    }
   ],
   "source": [
    "numbers = [1, 2, 3, 4, 5, 6, 7, 8, 9 ,10]\n",
    "results = binary_Search(numbers, 12)\n",
    "verify(results)"
   ]
  },
  {
   "cell_type": "code",
   "execution_count": 11,
   "id": "8c4999ff-252f-4e3c-bfca-ff1d793c92f2",
   "metadata": {},
   "outputs": [
    {
     "name": "stdout",
     "output_type": "stream",
     "text": [
      "Target found at index:  6\n"
     ]
    }
   ],
   "source": [
    "results = binary_Search(numbers, 7)\n",
    "verify(results)"
   ]
  },
  {
   "cell_type": "markdown",
   "id": "c287d0e1-2c10-494a-9e2a-4940df000411",
   "metadata": {},
   "source": [
    "## Recursive Binary Search"
   ]
  },
  {
   "cell_type": "code",
   "execution_count": 13,
   "id": "589f51fe-d947-457f-a198-f9379532d8d2",
   "metadata": {},
   "outputs": [],
   "source": [
    "def recursive_binary_search(list,target):\n",
    "    if len(list) == 0:\n",
    "        return False \n",
    "    else:\n",
    "        midpoint = (len(list))//2\n",
    "        \n",
    "        if list[midpoint] == target:\n",
    "            return True\n",
    "        else:\n",
    "            if list[midpoint] < target:\n",
    "                return recursive_binary_search(list[midpoint+1:], target)\n",
    "            else:\n",
    "                return recursive_binary_search(list[:midpoint], target)"
   ]
  },
  {
   "cell_type": "code",
   "execution_count": 14,
   "id": "2f4c2e11-3229-4836-9f17-0504f2f197c3",
   "metadata": {},
   "outputs": [],
   "source": [
    "def verify(result):\n",
    "    print(\"Target found: \", result)\n",
    "    "
   ]
  },
  {
   "cell_type": "code",
   "execution_count": 16,
   "id": "c8c81cf7-f947-42f2-9b77-efafb9a3aff6",
   "metadata": {},
   "outputs": [
    {
     "name": "stdout",
     "output_type": "stream",
     "text": [
      "Target found:  False\n"
     ]
    }
   ],
   "source": [
    "num = [1,2,3,4,5,6,7,8,9,10,11,12,13,14,15,16,17,18,19,20]\n",
    "resullt = recursive_binary_search(num,22)\n",
    "verify(resullt)"
   ]
  },
  {
   "cell_type": "code",
   "execution_count": 17,
   "id": "880576ca-9994-4d6f-92b9-667bdbdf49d3",
   "metadata": {},
   "outputs": [
    {
     "name": "stdout",
     "output_type": "stream",
     "text": [
      "Target found:  True\n"
     ]
    }
   ],
   "source": [
    "resuult = recursive_binary_search(num,12)\n",
    "verify(resuult)"
   ]
  },
  {
   "cell_type": "code",
   "execution_count": null,
   "id": "0cf94f62-02cb-4a90-9a30-6ea777c684e5",
   "metadata": {},
   "outputs": [],
   "source": []
  }
 ],
 "metadata": {
  "kernelspec": {
   "display_name": "Python 3 (ipykernel)",
   "language": "python",
   "name": "python3"
  },
  "language_info": {
   "codemirror_mode": {
    "name": "ipython",
    "version": 3
   },
   "file_extension": ".py",
   "mimetype": "text/x-python",
   "name": "python",
   "nbconvert_exporter": "python",
   "pygments_lexer": "ipython3",
   "version": "3.11.3"
  }
 },
 "nbformat": 4,
 "nbformat_minor": 5
}
